{
 "cells": [
  {
   "cell_type": "markdown",
   "id": "4319a693-3af7-46ef-84b1-e05e2c7b794c",
   "metadata": {
    "tags": []
   },
   "source": [
    "# Load trained models"
   ]
  },
  {
   "cell_type": "markdown",
   "id": "ff9d8396-e288-4fb9-b49a-06e26c70df35",
   "metadata": {},
   "source": [
    "If the models are not yet trained and saved to `/models` you should execute `train.ipynl` first."
   ]
  },
  {
   "cell_type": "code",
   "execution_count": 3,
   "id": "22b5b4d7-6a98-4daf-91c8-58222f2ab032",
   "metadata": {},
   "outputs": [],
   "source": [
    "import pickle\n",
    "import os\n",
    "\n",
    "def load_classifier(name):\n",
    "    with open(os.path.join('models', name+'.pickle'), 'rb') as f:\n",
    "        return pickle.load(f)\n",
    "         \n",
    "IntroExtro = load_classifier(\"IntroExtro\")\n",
    "IntuitionSensing = load_classifier(\"IntuitionSensing\")\n",
    "ThinkingFeeling = load_classifier(\"ThinkingFeeling\")\n",
    "JudgingPercieiving = load_classifier(\"JudgingPercieiving\")\n",
    "MainFunction = load_classifier(\"MainFunction\")\n",
    "DomFunction = load_classifier(\"DomFunction\")\n",
    "AuxFunction = load_classifier(\"AuxFunction\")"
   ]
  },
  {
   "cell_type": "markdown",
   "id": "5df72e02-63d0-45ea-9a23-69b34a309f77",
   "metadata": {},
   "source": [
    "# Testing the models to predict my trait my feeding few of my quora writings"
   ]
  },
  {
   "cell_type": "markdown",
   "id": "b2e0a534-0b3a-4fc8-b372-9340396baed4",
   "metadata": {
    "_uuid": "73713f15035b8794105d79d408303538f70d81e8"
   },
   "source": [
    "Defining a functions that inputs the writings, tokenizes them and then predicts the output based on our earlier classifiers"
   ]
  },
  {
   "cell_type": "code",
   "execution_count": 11,
   "id": "884e0685-2089-4c23-8296-48b59146bd26",
   "metadata": {
    "_uuid": "1185cfaace1c5df6b334ca51b3b0bd1960ede4d8"
   },
   "outputs": [],
   "source": [
    "import nltk\n",
    "import string\n",
    "\n",
    "useless_words = nltk.corpus.stopwords.words(\"english\") + list(string.punctuation)\n",
    "def build_bag_of_words_features_filtered(words):\n",
    "    words = nltk.word_tokenize(words)\n",
    "    return {\n",
    "        word:1 for word in words \\\n",
    "        if not word in useless_words}\n",
    "\n",
    "def MBTI(input):\n",
    "    tokenize = build_bag_of_words_features_filtered(input)\n",
    "    ie = IntroExtro.classify(tokenize)\n",
    "    Is = IntuitionSensing.classify(tokenize)\n",
    "    tf = ThinkingFeeling.classify(tokenize)\n",
    "    jp = JudgingPercieiving.classify(tokenize)\n",
    "    mainFunc = MainFunction.classify(tokenize)\n",
    "    domFunc = DomFunction.classify(tokenize)\n",
    "    auxFunc = AuxFunction.classify(tokenize)\n",
    "    \n",
    "    mbt = ''\n",
    "    \n",
    "    if(ie == 'introvert'):\n",
    "        mbt+='I'\n",
    "    if(ie == 'extrovert'):\n",
    "        mbt+='E'\n",
    "    if(Is == 'Intuition'):\n",
    "        mbt+='N'\n",
    "    if(Is == 'Sensing'):\n",
    "        mbt+='S'\n",
    "    if(tf == 'Thinking'):\n",
    "        mbt+='T'\n",
    "    if(tf == 'Feeling'):\n",
    "        mbt+='F'\n",
    "    if(jp == 'Judging'):\n",
    "        mbt+='J'\n",
    "    if(jp == 'Percieving'):\n",
    "        mbt+='P'\n",
    "    return(f\"{mbt} (Main:{mainFunc}) (Dom: {domFunc}, Aux: {auxFunc})\")\n",
    "    "
   ]
  },
  {
   "cell_type": "markdown",
   "id": "5455d5fd-eca9-462e-8467-f2c3ac9b69f3",
   "metadata": {
    "_uuid": "ab4ed37dc3cf0d18f3ac76ca042ceb2348f172c0"
   },
   "source": [
    "### Building another functions that takes all of my posts as input and outputs the graph showing percentage of each trait seen in each posts and sums up displaying your personality as the graph title\n",
    "\n",
    "**Note:** The input should be an array of your posts"
   ]
  },
  {
   "cell_type": "code",
   "execution_count": 12,
   "id": "17b275f3-13d9-473f-9e5f-4a1a0d8823d3",
   "metadata": {
    "_uuid": "ceaaa08742e3dfb2ba1d51bb7e8af74c68cad824"
   },
   "outputs": [],
   "source": [
    "import pandas as pd\n",
    "\n",
    "def tellmemyMBTI(input, name, traasits=[]):\n",
    "    a = []\n",
    "    trait1 = pd.DataFrame([0,0,0,0],['I','N','T','J'],['count'])\n",
    "    trait2 = pd.DataFrame([0,0,0,0],['E','S','F','P'],['count'])\n",
    "    for i in input:\n",
    "        a += [MBTI(i)]\n",
    "    for i in a:\n",
    "        for j in ['I','N','T','J']:\n",
    "            if(j in i):\n",
    "                trait1.loc[j]+=1                \n",
    "        for j in ['E','S','F','P']:\n",
    "            if(j in i):\n",
    "                trait2.loc[j]+=1 \n",
    "    trait1 = trait1.T\n",
    "    trait1 = trait1*100/len(input)\n",
    "    trait2 = trait2.T\n",
    "    trait2 = trait2*100/len(input)\n",
    "    \n",
    "    \n",
    "    #Finding the personality\n",
    "    YourTrait = ''\n",
    "    for i,j in zip(trait1,trait2):\n",
    "        temp = max(trait1[i][0],trait2[j][0])\n",
    "        if(trait1[i][0]==temp):\n",
    "            YourTrait += i  \n",
    "        if(trait2[j][0]==temp):\n",
    "            YourTrait += j\n",
    "    traasits +=[YourTrait] \n",
    "    \n",
    "    #Plotting\n",
    "    \n",
    "    labels = np.array(results.columns)\n",
    "\n",
    "    intj = trait1.loc['count']\n",
    "    ind = np.arange(4)\n",
    "    width = 0.4\n",
    "    fig = plt.figure()\n",
    "    ax = fig.add_subplot(111)\n",
    "    rects1 = ax.bar(ind, intj, width, color='royalblue')\n",
    "\n",
    "    esfp = trait2.loc['count']\n",
    "    rects2 = ax.bar(ind+width, esfp, width, color='seagreen')\n",
    "\n",
    "    fig.set_size_inches(10, 7)\n",
    "    \n",
    "    \n",
    "\n",
    "    ax.set_xlabel('Finding the MBTI Trait', size = 18)\n",
    "    ax.set_ylabel('Trait Percent (%)', size = 18)\n",
    "    ax.set_xticks(ind + width / 2)\n",
    "    ax.set_xticklabels(labels)\n",
    "    ax.set_yticks(np.arange(0,105, step= 10))\n",
    "    ax.set_title('Your Personality is '+YourTrait,size = 20)\n",
    "    plt.grid(True)\n",
    "    \n",
    "    \n",
    "    fig.savefig(name+'.png', dpi=200)\n",
    "    \n",
    "    plt.show()\n",
    "    return(traasits)\n",
    "        "
   ]
  },
  {
   "cell_type": "markdown",
   "id": "f7d9a02f-34aa-4b64-ba33-453a5d66cb4c",
   "metadata": {
    "_uuid": "572fd125be7e545b69e47b087ee76477f9c512c7"
   },
   "source": [
    "# Importing my quora answers from a text file\n",
    "\n",
    "I copied all my answer from the link i provided before (i broke down the paragraphs as separte posts)"
   ]
  },
  {
   "cell_type": "code",
   "execution_count": 21,
   "id": "2d9d57de-e7d3-42a2-a448-784373ad244e",
   "metadata": {
    "tags": []
   },
   "outputs": [],
   "source": [
    "import os\n",
    "from pathlib import Path\n",
    "\n",
    "# base dataset path. You should place directories containing textes to be predicted.\n",
    "dataset_path = str(Path.home())+ '/dataset/'\n",
    "\n",
    "def collect_entries_for(directory_name: str):\n",
    "    return [os.path.join(dirname, filename) \\\n",
    "            for dirname, _, filenames in os.walk(dataset_path + directory_name) \\\n",
    "             for filename in filenames]\n",
    "\n",
    "\n",
    "journals_texts = collect_entries_for('journals')\n",
    "\n",
    "stanbar_texts = collect_entries_for('stanbar')\n",
    "\n",
    "# Derek Sivers's texts, he has a lot of texts and is known as INTJ\n",
    "sivers_texts = collect_entries_for('sivers')\n",
    "\n",
    "# Tim Ferris's texts, he has a lot of texts and is known as INTJ\n",
    "ferriss_texts = collect_entries_for('ferriss')\n",
    "\n",
    "# Will Smith's texts, he has a lot of texts and is known as ENFJ\n",
    "will_texts = collect_entries_for('will')\n",
    "\n",
    "# Gary's texts, he has a lot of texts and is known as ENFJ\n",
    "gary_texts = collect_entries_for('gary')\n",
    "\n",
    "# Branson's texts, he has a lot of texts and is known as ENFJ\n",
    "branson_texts = collect_entries_for('branson')\n",
    "\n",
    "# Oprah's texts, he has a lot of texts and is known as ENFJ\n",
    "oprah_texts = collect_entries_for('oprah')\n",
    "\n",
    "# Jacko's texts, he has a lot of texts and is known as ESFP\n",
    "jacko_texts = collect_entries_for('jacko')"
   ]
  },
  {
   "cell_type": "markdown",
   "id": "c9f3dd3e-b657-4ffb-a7c3-5748b683da5e",
   "metadata": {
    "_uuid": "8acac980960382ffa36ae285b7707774476da5b3"
   },
   "source": [
    "# Using the classifier to predict my personality type"
   ]
  },
  {
   "cell_type": "code",
   "execution_count": 14,
   "id": "fe8c0791-be42-42eb-8491-2ff6dc806de9",
   "metadata": {
    "tags": []
   },
   "outputs": [],
   "source": [
    "def predict_for_texts(texts, verbose = False):\n",
    "    for text in texts:\n",
    "        lines = [line for line in [line.strip() for line in open(text).readlines()] if line]\n",
    "        a = []\n",
    "        trait1 = pd.DataFrame([0,0,0,0],['I','N','T','J'],['count'])\n",
    "        trait2 = pd.DataFrame([0,0,0,0],['E','S','F','P'],['count'])\n",
    "        for i in lines:\n",
    "            guess_for_line = MBTI(i)\n",
    "            if verbose:\n",
    "                print(f\"guess: {guess_for_line}\")\n",
    "            a += [guess_for_line]\n",
    "        for i in a:\n",
    "            for j in ['I','N','T','J']:\n",
    "                if(j in i):\n",
    "                    trait1.loc[j]+=1                \n",
    "            for j in ['E','S','F','P']:\n",
    "                if(j in i):\n",
    "                    trait2.loc[j]+=1 \n",
    "        trait1 = trait1.T\n",
    "        trait1 = trait1*100/len(lines)\n",
    "        trait2 = trait2.T\n",
    "        trait2 = trait2*100/len(lines)\n",
    "        #Finding the personality\n",
    "        YourTrait = ''\n",
    "        traasits=[]\n",
    "        for i,j in zip(trait1,trait2):\n",
    "            temp = max(trait1[i][0],trait2[j][0])\n",
    "            if(trait1[i][0]==temp):\n",
    "                YourTrait += i  \n",
    "            if(trait2[j][0]==temp):\n",
    "                YourTrait += j\n",
    "        traasits +=[YourTrait] \n",
    "\n",
    "        print(YourTrait, text)\n",
    "\n",
    "    \n",
    "# trait = tellmemyMBTI(beginner_expert, \"Stach\")"
   ]
  },
  {
   "cell_type": "code",
   "execution_count": 22,
   "id": "23d900c0-2991-4e3f-afd6-e0ebbe1b73e8",
   "metadata": {
    "scrolled": true
   },
   "outputs": [
    {
     "name": "stdout",
     "output_type": "stream",
     "text": [
      "\n",
      "\n",
      " Gary books:\n",
      "INTJ /Users/stanbar/dataset/gary/The Thank You Economy.txt\n",
      "INTJ /Users/stanbar/dataset/gary/Crushing It.txt\n",
      "INTJ /Users/stanbar/dataset/gary/Jab, Jab, Jab, Right Hook How to Tell Your Story in a Noisy Social World.txt\n",
      "\n",
      "\n",
      " Oprah books:\n",
      "INFJ /Users/stanbar/dataset/oprah/What Happened to You Conversations on Trauma, Resilience, and Healing.txt\n",
      "INFJ /Users/stanbar/dataset/oprah/The Wisdom of Sundays.txt\n",
      "INFJ /Users/stanbar/dataset/oprah/The Path Made Clear Discovering Your Life’s Direction and Purpose.txt\n",
      "INFJ /Users/stanbar/dataset/oprah/What I Know For Sure.txt\n",
      "\n",
      "\n",
      " Branson books:\n",
      "INTJ /Users/stanbar/dataset/branson/Finding My Virginity The New Autobiography (Richard Branson) (z-lib.org).txt\n",
      "INTJ /Users/stanbar/dataset/branson/Like a Virgin (Richard Branson) (z-lib.org).txt\n",
      "INTJ /Users/stanbar/dataset/branson/Screw It, Lets Do It Lessons in Life and Business (Richard Branson) (z-lib.org).txt\n",
      "INTP /Users/stanbar/dataset/branson/Losing My Virginity How I Survived, Had Fun, and Made a Fortune Doing Business My Way (Richard Branson) (z-lib.org).txt\n",
      "\n",
      "\n",
      " Jacko books:\n",
      "INTJ /Users/stanbar/dataset/jacko/Leadership Strategy and Tactics Field Manual (Jocko Willink) (z-lib.org).txt\n",
      "INTJ /Users/stanbar/dataset/jacko/Extreme ownership how the u.s. navy seals lead and win (Willink, Jocko) (z-lib.org).txt\n",
      "INTJ /Users/stanbar/dataset/jacko/Discipline Equals Freedom (Jocko Willink) (z-lib.org).txt\n"
     ]
    }
   ],
   "source": [
    "#print(\"\\n\\nMy journals:\")\n",
    "#predict_for_texts(journals_texts)\n",
    "\n",
    "# print(\"\\n\\nstan.bar posts:\")\n",
    "# predict_for_texts(stanbar_texts)\n",
    "\n",
    "#print(\"\\n\\nDerek Sivers posts:\")\n",
    "#predict_for_texts(sivers_texts)\n",
    "\n",
    "\n",
    "# print(\"\\n\\n ferriss_texts books:\")\n",
    "# predict_for_texts(ferriss_texts)\n",
    "\n",
    "# print(\"\\n\\n will books:\")\n",
    "# predict_for_texts(will_texts)\n",
    "\n",
    "print(\"\\n\\n Gary books:\")\n",
    "predict_for_texts(gary_texts)\n",
    "\n",
    "print(\"\\n\\n Oprah books:\")\n",
    "predict_for_texts(oprah_texts)\n",
    "\n",
    "print(\"\\n\\n Branson books:\")\n",
    "predict_for_texts(branson_texts)\n",
    "\n",
    "print(\"\\n\\n Jacko books:\")\n",
    "predict_for_texts(jacko_texts)"
   ]
  },
  {
   "cell_type": "markdown",
   "id": "d62e7ad9-d4ce-498d-aa6f-005bf9a398b2",
   "metadata": {
    "_uuid": "ed1cbe3fa7c051944b605cdc2894f6c0ea1cb4a0"
   },
   "source": [
    "# Concluding note\n",
    "\n",
    "My profile according to https://www.16personalities.com/ is INTJ.\n",
    "\n",
    "I am pretty happy that using such a basic model it was pretty close to my real profile, only 1 different. And even that difference was very close, between 10% inaccuary which pretty good.\n",
    "\n",
    "Although, I am not sure how the classifier will perform on all test cases in general. Specially, the data for some profiles was very less."
   ]
  },
  {
   "cell_type": "code",
   "execution_count": null,
   "id": "e836abe4-8724-4ffc-bc16-3747bd09edf2",
   "metadata": {
    "_uuid": "9adfdd6c67746864a3328516ae7f225c28a60fd3",
    "tags": []
   },
   "outputs": [],
   "source": [
    "# IntroExtro.show_most_informative_features()\n",
    "# IntuitionSensing.show_most_informative_features()\n",
    "# ThinkingFeeling.show_most_informative_features()\n",
    "# JudgingPercieiving.show_most_informative_features()\n",
    "MainFunction.show_most_informative_features()\n",
    "# DomFunction.show_most_informative_features()\n",
    "# AuxFunction.show_most_informative_features()"
   ]
  }
 ],
 "metadata": {
  "kernelspec": {
   "display_name": "Python 3 (ipykernel)",
   "language": "python",
   "name": "python3"
  },
  "language_info": {
   "codemirror_mode": {
    "name": "ipython",
    "version": 3
   },
   "file_extension": ".py",
   "mimetype": "text/x-python",
   "name": "python",
   "nbconvert_exporter": "python",
   "pygments_lexer": "ipython3",
   "version": "3.10.4"
  }
 },
 "nbformat": 4,
 "nbformat_minor": 5
}
