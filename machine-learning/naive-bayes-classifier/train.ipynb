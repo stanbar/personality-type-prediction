{
 "cells": [
  {
   "cell_type": "markdown",
   "metadata": {
    "_uuid": "8bb827f06f5cfefe8e260728821da68ba58b7e4b"
   },
   "source": [
    "1. # MBTI Personality Classifier via Naive Bayes Classifier\n",
    "\n",
    "This programme will classify people into mbti personality types based on their past 50 posts on social media using the basic naivebayesclassifier"
   ]
  },
  {
   "cell_type": "code",
   "execution_count": 3,
   "metadata": {
    "_uuid": "a7de7bb1a15a021967dce619552960dd5fec96d1"
   },
   "outputs": [],
   "source": [
    "import pandas as pd\n",
    "import numpy as np\n",
    "import matplotlib.pyplot as plt\n",
    "import nltk\n",
    "import string\n",
    "from nltk.classify import NaiveBayesClassifier"
   ]
  },
  {
   "cell_type": "markdown",
   "metadata": {
    "_uuid": "0dbb5e7154ae6c0952e785327a5e6910597f1e84"
   },
   "source": [
    "### Importing the dataset "
   ]
  },
  {
   "cell_type": "code",
   "execution_count": 4,
   "metadata": {
    "_kg_hide-input": true,
    "_uuid": "9dfe2a597939ab1ae2ec490a1de13db637451134"
   },
   "outputs": [
    {
     "data": {
      "text/html": [
       "<div>\n",
       "<style scoped>\n",
       "    .dataframe tbody tr th:only-of-type {\n",
       "        vertical-align: middle;\n",
       "    }\n",
       "\n",
       "    .dataframe tbody tr th {\n",
       "        vertical-align: top;\n",
       "    }\n",
       "\n",
       "    .dataframe thead th {\n",
       "        text-align: right;\n",
       "    }\n",
       "</style>\n",
       "<table border=\"1\" class=\"dataframe\">\n",
       "  <thead>\n",
       "    <tr style=\"text-align: right;\">\n",
       "      <th></th>\n",
       "      <th>type</th>\n",
       "      <th>dom</th>\n",
       "      <th>aux</th>\n",
       "      <th>posts</th>\n",
       "    </tr>\n",
       "  </thead>\n",
       "  <tbody>\n",
       "    <tr>\n",
       "      <th>8670</th>\n",
       "      <td>ISFP</td>\n",
       "      <td>Fi</td>\n",
       "      <td>Se</td>\n",
       "      <td>'https://www.youtube.com/watch?v=t8edHB_h908||...</td>\n",
       "    </tr>\n",
       "    <tr>\n",
       "      <th>8671</th>\n",
       "      <td>ENFP</td>\n",
       "      <td>Ne</td>\n",
       "      <td>Fi</td>\n",
       "      <td>'So...if this thread already exists someplace ...</td>\n",
       "    </tr>\n",
       "    <tr>\n",
       "      <th>8672</th>\n",
       "      <td>INTP</td>\n",
       "      <td>Ti</td>\n",
       "      <td>Ne</td>\n",
       "      <td>'So many questions when i do these things.  I ...</td>\n",
       "    </tr>\n",
       "    <tr>\n",
       "      <th>8673</th>\n",
       "      <td>INFP</td>\n",
       "      <td>Fi</td>\n",
       "      <td>Ne</td>\n",
       "      <td>'I am very conflicted right now when it comes ...</td>\n",
       "    </tr>\n",
       "    <tr>\n",
       "      <th>8674</th>\n",
       "      <td>INFP</td>\n",
       "      <td>Fi</td>\n",
       "      <td>Ne</td>\n",
       "      <td>'It has been too long since I have been on per...</td>\n",
       "    </tr>\n",
       "  </tbody>\n",
       "</table>\n",
       "</div>"
      ],
      "text/plain": [
       "      type dom aux                                              posts\n",
       "8670  ISFP  Fi  Se  'https://www.youtube.com/watch?v=t8edHB_h908||...\n",
       "8671  ENFP  Ne  Fi  'So...if this thread already exists someplace ...\n",
       "8672  INTP  Ti  Ne  'So many questions when i do these things.  I ...\n",
       "8673  INFP  Fi  Ne  'I am very conflicted right now when it comes ...\n",
       "8674  INFP  Fi  Ne  'It has been too long since I have been on per..."
      ]
     },
     "execution_count": 4,
     "metadata": {},
     "output_type": "execute_result"
    }
   ],
   "source": [
    "data_set = pd.read_csv(\"../data/mbti_1_with_functions.csv\")\n",
    "data_set.tail()"
   ]
  },
  {
   "cell_type": "markdown",
   "metadata": {
    "_uuid": "98e57b1de8e236358006019dba07402077f3fd01"
   },
   "source": [
    "### Checking the dataset for missing values"
   ]
  },
  {
   "cell_type": "code",
   "execution_count": 5,
   "metadata": {
    "_uuid": "184c5514a2e0fc586e53165489de53e3e90fece4"
   },
   "outputs": [
    {
     "data": {
      "text/plain": [
       "type     False\n",
       "dom      False\n",
       "aux      False\n",
       "posts    False\n",
       "dtype: bool"
      ]
     },
     "execution_count": 5,
     "metadata": {},
     "output_type": "execute_result"
    }
   ],
   "source": [
    "data_set.isnull().any()"
   ]
  },
  {
   "cell_type": "markdown",
   "metadata": {
    "_uuid": "30a4b1e733e3065150b30f3d4278f54c7995bd85"
   },
   "source": [
    "## Exploring the dataset"
   ]
  },
  {
   "cell_type": "markdown",
   "metadata": {
    "_uuid": "b50a97e6ff2b572c9ae044bc13b4611479d00756"
   },
   "source": [
    "The size of the dataset"
   ]
  },
  {
   "cell_type": "code",
   "execution_count": 6,
   "metadata": {
    "_uuid": "97f0e8c89d2c1e2fdfc960b23b659600cf83aa66"
   },
   "outputs": [
    {
     "data": {
      "text/plain": [
       "(8675, 4)"
      ]
     },
     "execution_count": 6,
     "metadata": {},
     "output_type": "execute_result"
    }
   ],
   "source": [
    "data_set.shape"
   ]
  },
  {
   "cell_type": "markdown",
   "metadata": {
    "_uuid": "b382a2579939671ba8c3c093eec4025622ef5077"
   },
   "source": [
    "Explroing the posts in posts field"
   ]
  },
  {
   "cell_type": "code",
   "execution_count": 7,
   "metadata": {
    "_uuid": "3472b5b9eedb53ea9cfbeec1aeffed97840af476",
    "scrolled": true
   },
   "outputs": [
    {
     "data": {
      "text/plain": [
       "[\"'http://www.youtube.com/watch?v=qsXHcwe3krw\",\n",
       " 'http://41.media.tumblr.com/tumblr_lfouy03PMA1qa1rooo1_500.jpg',\n",
       " 'enfp and intj moments  https://www.youtube.com/watch?v=iz7lE1g4XM4  sportscenter not top ten plays  https://www.youtube.com/watch?v=uCdfze1etec  pranks',\n",
       " 'What has been the most life-changing experience in your life?',\n",
       " 'http://www.youtube.com/watch?v=vXZeYwwRDw8   http://www.youtube.com/watch?v=u8ejam5DP3E  On repeat for most of today.',\n",
       " 'May the PerC Experience immerse you.',\n",
       " 'The last thing my INFJ friend posted on his facebook before committing suicide the next day. Rest in peace~   http://vimeo.com/22842206',\n",
       " \"Hello ENFJ7. Sorry to hear of your distress. It's only natural for a relationship to not be perfection all the time in every moment of existence. Try to figure the hard times as times of growth, as...\",\n",
       " '84389  84390  http://wallpaperpassion.com/upload/23700/friendship-boy-and-girl-wallpaper.jpg  http://assets.dornob.com/wp-content/uploads/2010/04/round-home-design.jpg ...',\n",
       " 'Welcome and stuff.',\n",
       " 'http://playeressence.com/wp-content/uploads/2013/08/RED-red-the-pokemon-master-32560474-450-338.jpg  Game. Set. Match.',\n",
       " \"Prozac, wellbrutin, at least thirty minutes of moving your legs (and I don't mean moving them while sitting in your same desk chair), weed in moderation (maybe try edibles as a healthier alternative...\",\n",
       " \"Basically come up with three items you've determined that each type (or whichever types you want to do) would more than likely use, given each types' cognitive functions and whatnot, when left by...\",\n",
       " 'All things in moderation.  Sims is indeed a video game, and a good one at that. Note: a good one at that is somewhat subjective in that I am not completely promoting the death of any given Sim...',\n",
       " 'Dear ENFP:  What were your favorite video games growing up and what are your now, current favorite video games? :cool:',\n",
       " 'https://www.youtube.com/watch?v=QyPqT8umzmY',\n",
       " 'It appears to be too late. :sad:',\n",
       " \"There's someone out there for everyone.\",\n",
       " 'Wait... I thought confidence was a good thing.',\n",
       " \"I just cherish the time of solitude b/c i revel within my inner world more whereas most other time i'd be workin... just enjoy the me time while you can. Don't worry, people will always be around to...\",\n",
       " \"Yo entp ladies... if you're into a complimentary personality,well, hey.\",\n",
       " '... when your main social outlet is xbox live conversations and even then you verbally fatigue quickly.',\n",
       " 'http://www.youtube.com/watch?v=gDhy7rdfm14  I really dig the part from 1:46 to 2:50',\n",
       " 'http://www.youtube.com/watch?v=msqXffgh7b8',\n",
       " 'Banned because this thread requires it of me.',\n",
       " 'Get high in backyard, roast and eat marshmellows in backyard while conversing over something intellectual, followed by massages and kisses.',\n",
       " 'http://www.youtube.com/watch?v=Mw7eoU3BMbE',\n",
       " 'http://www.youtube.com/watch?v=4V2uYORhQOk',\n",
       " 'http://www.youtube.com/watch?v=SlVmgFQQ0TI',\n",
       " \"Banned for too many b's in that sentence. How could you! Think of the B!\",\n",
       " 'Banned for watching movies in the corner with the dunces.',\n",
       " 'Banned because Health class clearly taught you nothing about peer pressure.',\n",
       " 'Banned for a whole host of reasons!',\n",
       " 'http://www.youtube.com/watch?v=IRcrv41hgz4',\n",
       " \"1) Two baby deer on left and right munching on a beetle in the middle.  2) Using their own blood, two cavemen diary today's latest happenings on their designated cave diary wall.  3) I see it as...\",\n",
       " 'a pokemon world  an infj society  everyone becomes an optimist',\n",
       " '49142',\n",
       " 'http://www.youtube.com/watch?v=ZRCEq_JFeFM',\n",
       " 'http://discovermagazine.com/2012/jul-aug/20-things-you-didnt-know-about-deserts/desert.jpg',\n",
       " 'http://oyster.ignimgs.com/mediawiki/apis.ign.com/pokemon-silver-version/d/dd/Ditto.gif',\n",
       " 'http://www.serebii.net/potw-dp/Scizor.jpg',\n",
       " \"Not all artists are artists because they draw. It's the idea that counts in forming something of your own... like a signature.\",\n",
       " \"Welcome to the robot ranks, person who downed my self-esteem cuz I'm not an avid signature artist like herself. :proud:\",\n",
       " 'Banned for taking all the room under my bed. Ya gotta learn to share with the roaches.',\n",
       " 'http://www.youtube.com/watch?v=w8IgImn57aQ',\n",
       " 'Banned for being too much of a thundering, grumbling kind of storm... yep.',\n",
       " \"Ahh... old high school music I haven't heard in ages.   http://www.youtube.com/watch?v=dcCRUPCdB1w\",\n",
       " \"I failed a public speaking class a few years ago and I've sort of learned what I could do better were I to be in that position again. A big part of my failure was just overloading myself with too...\",\n",
       " \"I like this person's mentality. He's a confirmed INTJ by the way. http://www.youtube.com/watch?v=hGKLI-GEc6M\",\n",
       " \"Move to the Denver area and start a new life for myself.'\"]"
      ]
     },
     "execution_count": 7,
     "metadata": {},
     "output_type": "execute_result"
    }
   ],
   "source": [
    "data_set.iloc[0,3].split('|||')"
   ]
  },
  {
   "cell_type": "markdown",
   "metadata": {
    "_uuid": "0b86097a7c4ba22dad0b1ebda788488cd3ace0c5"
   },
   "source": [
    "Finding the number of posts"
   ]
  },
  {
   "cell_type": "code",
   "execution_count": 8,
   "metadata": {
    "_uuid": "732043d533235d8e6ab217f9e0ecd0b3099b2287"
   },
   "outputs": [
    {
     "data": {
      "text/plain": [
       "50"
      ]
     },
     "execution_count": 8,
     "metadata": {},
     "output_type": "execute_result"
    }
   ],
   "source": [
    "len(data_set.iloc[1,3].split('|||'))"
   ]
  },
  {
   "cell_type": "markdown",
   "metadata": {
    "_uuid": "1d8d191335a7914d097b389c2db604b74e36b328"
   },
   "source": [
    "Finding the unique vales from type of personality column"
   ]
  },
  {
   "cell_type": "code",
   "execution_count": 9,
   "metadata": {
    "_uuid": "ac77990f8eb625fa66d16fd94e923425c51413aa"
   },
   "outputs": [
    {
     "data": {
      "text/plain": [
       "array(['ENFJ', 'ENFP', 'ENTJ', 'ENTP', 'ESFJ', 'ESFP', 'ESTJ', 'ESTP',\n",
       "       'INFJ', 'INFP', 'INTJ', 'INTP', 'ISFJ', 'ISFP', 'ISTJ', 'ISTP'],\n",
       "      dtype=object)"
      ]
     },
     "execution_count": 9,
     "metadata": {},
     "output_type": "execute_result"
    }
   ],
   "source": [
    "types = np.unique(np.array(data_set['type']))\n",
    "types"
   ]
  },
  {
   "cell_type": "code",
   "execution_count": 10,
   "metadata": {},
   "outputs": [],
   "source": [
    "functions = np.unique(np.array(data_set['dom']))"
   ]
  },
  {
   "cell_type": "markdown",
   "metadata": {
    "_uuid": "2f743361a01e838dfe1d5cd4965f495c2ff2e683"
   },
   "source": [
    "Graphing it for better visualization"
   ]
  },
  {
   "cell_type": "code",
   "execution_count": 11,
   "metadata": {
    "_uuid": "b12b91bc628b74dfe872f7ba667e0b6e2a03db95"
   },
   "outputs": [
    {
     "data": {
      "text/plain": [
       "Text(0.5, 1.0, 'Total posts for each personality type')"
      ]
     },
     "execution_count": 11,
     "metadata": {},
     "output_type": "execute_result"
    },
    {
     "data": {
      "image/png": "[encoded data removed]",
      "text/plain": [
       "<Figure size 864x432 with 1 Axes>"
      ]
     },
     "metadata": {
      "needs_background": "light"
     },
     "output_type": "display_data"
    }
   ],
   "source": [
    "total = data_set.groupby(['type']).count()\n",
    "plt.figure(figsize = (12,6))\n",
    "\n",
    "plt.bar(np.array(total.index), height = total['posts'],)\n",
    "plt.xlabel('Personality types', size = 14)\n",
    "plt.ylabel('Number of posts available', size = 14)\n",
    "plt.title('Total posts for each personality type')"
   ]
  },
  {
   "cell_type": "code",
   "execution_count": 12,
   "metadata": {},
   "outputs": [
    {
     "data": {
      "text/plain": [
       "Text(0.5, 1.0, 'Total posts for each dom function')"
      ]
     },
     "execution_count": 12,
     "metadata": {},
     "output_type": "execute_result"
    },
    {
     "data": {
      "image/png": "[encoded data removed]",
      "text/plain": [
       "<Figure size 864x432 with 1 Axes>"
      ]
     },
     "metadata": {
      "needs_background": "light"
     },
     "output_type": "display_data"
    }
   ],
   "source": [
    "\n",
    "total = data_set.groupby(['dom']).count()\n",
    "\n",
    "plt.figure(figsize = (12,6))\n",
    "\n",
    "plt.bar(np.array(total.index), height = total['posts'],)\n",
    "plt.xlabel('Dom functions', size = 14)\n",
    "plt.ylabel('Number of posts available', size = 14)\n",
    "plt.title('Total posts for each dom function')"
   ]
  },
  {
   "cell_type": "code",
   "execution_count": 13,
   "metadata": {},
   "outputs": [
    {
     "data": {
      "text/plain": [
       "Text(0.5, 1.0, 'Total posts for each aux function')"
      ]
     },
     "execution_count": 13,
     "metadata": {},
     "output_type": "execute_result"
    },
    {
     "data": {
      "image/png": "[encoded data removed]",
      "text/plain": [
       "<Figure size 864x432 with 1 Axes>"
      ]
     },
     "metadata": {
      "needs_background": "light"
     },
     "output_type": "display_data"
    }
   ],
   "source": [
    "total = data_set.groupby(['aux']).count()\n",
    "plt.figure(figsize = (12,6))\n",
    "plt.bar(np.array(total.index), height = total['posts'],)\n",
    "plt.xlabel('Aux functions', size = 14)\n",
    "plt.ylabel('Number of posts available', size = 14)\n",
    "plt.title('Total posts for each aux function')"
   ]
  },
  {
   "cell_type": "markdown",
   "metadata": {
    "_uuid": "ed579baba39191f90621eb7e8ca7f055833482d8"
   },
   "source": [
    "## Organising the data to create a bag words model"
   ]
  },
  {
   "cell_type": "markdown",
   "metadata": {
    "_uuid": "0532bbb0af6f4e09c3495150bdd7240b5fa3d1ae"
   },
   "source": [
    "Segrating all the posts by their personality types and ***creating a new dataframe to store all this in***"
   ]
  },
  {
   "cell_type": "code",
   "execution_count": 14,
   "metadata": {
    "_uuid": "9b3be2945617b413417302b2c8f42e670051ec37"
   },
   "outputs": [],
   "source": [
    "type_to_posts = pd.DataFrame()\n",
    "for j in types:\n",
    "    temp1 = data_set[data_set['type']==j]['posts']\n",
    "    temp2 = []\n",
    "    for i in temp1:\n",
    "        temp2+=i.split('|||')\n",
    "    temp3 = pd.Series(temp2)\n",
    "    type_to_posts[j] = temp3\n",
    "\n",
    "# build main\n",
    "main_to_posts = pd.DataFrame()\n",
    "dom_to_posts = pd.DataFrame()\n",
    "aux_to_posts = pd.DataFrame()\n",
    "for j in functions:\n",
    "    domsRaw = data_set[data_set['dom']==j]['posts']\n",
    "    auxsRaw = data_set[data_set['aux']==j]['posts']\n",
    "    main = []\n",
    "    doms = []\n",
    "    auxs = []\n",
    "    for i in domsRaw:\n",
    "        splitted = i.split('|||')\n",
    "        main+=splitted\n",
    "        doms+=splitted\n",
    "    for i in auxsRaw:\n",
    "        splitted = i.split('|||')\n",
    "        main+=splitted\n",
    "        auxs+=splitted\n",
    "        \n",
    "    mainSeries = pd.Series(main)\n",
    "    main_to_posts[j] = mainSeries\n",
    "    \n",
    "    domsSeries = pd.Series(doms)\n",
    "    dom_to_posts[j] = domsSeries\n",
    "    \n",
    "    auxsSeries = pd.Series(auxs)\n",
    "    aux_to_posts[j] = auxsSeries"
   ]
  },
  {
   "cell_type": "code",
   "execution_count": null,
   "metadata": {},
   "outputs": [],
   "source": []
  },
  {
   "cell_type": "code",
   "execution_count": null,
   "metadata": {},
   "outputs": [],
   "source": []
  },
  {
   "cell_type": "code",
   "execution_count": 15,
   "metadata": {
    "_uuid": "fdedc8d8b0d3c491780ed7ba7f3e5805a2704e51",
    "scrolled": true
   },
   "outputs": [
    {
     "data": {
      "text/html": [
       "<div>\n",
       "<style scoped>\n",
       "    .dataframe tbody tr th:only-of-type {\n",
       "        vertical-align: middle;\n",
       "    }\n",
       "\n",
       "    .dataframe tbody tr th {\n",
       "        vertical-align: top;\n",
       "    }\n",
       "\n",
       "    .dataframe thead th {\n",
       "        text-align: right;\n",
       "    }\n",
       "</style>\n",
       "<table border=\"1\" class=\"dataframe\">\n",
       "  <thead>\n",
       "    <tr style=\"text-align: right;\">\n",
       "      <th></th>\n",
       "      <th>Fe</th>\n",
       "      <th>Fi</th>\n",
       "      <th>Ne</th>\n",
       "      <th>Ni</th>\n",
       "      <th>Se</th>\n",
       "      <th>Si</th>\n",
       "      <th>Te</th>\n",
       "      <th>Ti</th>\n",
       "    </tr>\n",
       "  </thead>\n",
       "  <tbody>\n",
       "    <tr>\n",
       "      <th>91527</th>\n",
       "      <td>Oh, is that what they call it these days? :ton...</td>\n",
       "      <td>I'm not a hipster or a hippie. I'm me and as c...</td>\n",
       "      <td>Can't decide to start you motherfuckers bid's ...</td>\n",
       "      <td>Got 3 hours of sleep and I have a bit of a spl...</td>\n",
       "      <td>NaN</td>\n",
       "      <td>NaN</td>\n",
       "      <td>NaN</td>\n",
       "      <td>I made this into an automated test that you ca...</td>\n",
       "    </tr>\n",
       "    <tr>\n",
       "      <th>91528</th>\n",
       "      <td>I don't know whether or not you're including m...</td>\n",
       "      <td>'The only one I kept stuff for was my boyfrien...</td>\n",
       "      <td>I don't mind casual sex. My fantasies changes ...</td>\n",
       "      <td>I am going to raid the sh*t out of that cookie...</td>\n",
       "      <td>NaN</td>\n",
       "      <td>NaN</td>\n",
       "      <td>NaN</td>\n",
       "      <td>If you relate strongly to both functions, that...</td>\n",
       "    </tr>\n",
       "    <tr>\n",
       "      <th>91529</th>\n",
       "      <td>Too late, I'm already on a drug.  It's called....</td>\n",
       "      <td>I definitely feel that way. I feel disliked by...</td>\n",
       "      <td>I'm not afraid I disobeyed and stayed away  fr...</td>\n",
       "      <td>Fire.  Speed or Power?</td>\n",
       "      <td>NaN</td>\n",
       "      <td>NaN</td>\n",
       "      <td>NaN</td>\n",
       "      <td>You chose the Ne and Si answer instead of the ...</td>\n",
       "    </tr>\n",
       "    <tr>\n",
       "      <th>91530</th>\n",
       "      <td>Speaking of 'dirtius thougticus lobes,' didn't...</td>\n",
       "      <td>I couldn't travel alone. I have to share my ex...</td>\n",
       "      <td>Do I have a silly switch? no................I ...</td>\n",
       "      <td>^ ENTP   https://www.youtube.com/watch?v=5Xu0F...</td>\n",
       "      <td>NaN</td>\n",
       "      <td>NaN</td>\n",
       "      <td>NaN</td>\n",
       "      <td>Praimfaya &amp;    Marshy14 I made this into an au...</td>\n",
       "    </tr>\n",
       "    <tr>\n",
       "      <th>91531</th>\n",
       "      <td>Perhaps the better question is: how are we not...</td>\n",
       "      <td>Out of respect I sit and listen and try to gen...</td>\n",
       "      <td>people say I have numerous talents...so I gues...</td>\n",
       "      <td>I don't even know why I'm sharing this.   http...</td>\n",
       "      <td>NaN</td>\n",
       "      <td>NaN</td>\n",
       "      <td>NaN</td>\n",
       "      <td>I agree with you, but for the sake of testing ...</td>\n",
       "    </tr>\n",
       "  </tbody>\n",
       "</table>\n",
       "</div>"
      ],
      "text/plain": [
       "                                                      Fe  \\\n",
       "91527  Oh, is that what they call it these days? :ton...   \n",
       "91528  I don't know whether or not you're including m...   \n",
       "91529  Too late, I'm already on a drug.  It's called....   \n",
       "91530  Speaking of 'dirtius thougticus lobes,' didn't...   \n",
       "91531  Perhaps the better question is: how are we not...   \n",
       "\n",
       "                                                      Fi  \\\n",
       "91527  I'm not a hipster or a hippie. I'm me and as c...   \n",
       "91528  'The only one I kept stuff for was my boyfrien...   \n",
       "91529  I definitely feel that way. I feel disliked by...   \n",
       "91530  I couldn't travel alone. I have to share my ex...   \n",
       "91531  Out of respect I sit and listen and try to gen...   \n",
       "\n",
       "                                                      Ne  \\\n",
       "91527  Can't decide to start you motherfuckers bid's ...   \n",
       "91528  I don't mind casual sex. My fantasies changes ...   \n",
       "91529  I'm not afraid I disobeyed and stayed away  fr...   \n",
       "91530  Do I have a silly switch? no................I ...   \n",
       "91531  people say I have numerous talents...so I gues...   \n",
       "\n",
       "                                                      Ni   Se   Si   Te  \\\n",
       "91527  Got 3 hours of sleep and I have a bit of a spl...  NaN  NaN  NaN   \n",
       "91528  I am going to raid the sh*t out of that cookie...  NaN  NaN  NaN   \n",
       "91529                             Fire.  Speed or Power?  NaN  NaN  NaN   \n",
       "91530  ^ ENTP   https://www.youtube.com/watch?v=5Xu0F...  NaN  NaN  NaN   \n",
       "91531  I don't even know why I'm sharing this.   http...  NaN  NaN  NaN   \n",
       "\n",
       "                                                      Ti  \n",
       "91527  I made this into an automated test that you ca...  \n",
       "91528  If you relate strongly to both functions, that...  \n",
       "91529  You chose the Ne and Si answer instead of the ...  \n",
       "91530  Praimfaya &    Marshy14 I made this into an au...  \n",
       "91531  I agree with you, but for the sake of testing ...  "
      ]
     },
     "execution_count": 15,
     "metadata": {},
     "output_type": "execute_result"
    }
   ],
   "source": [
    "main_to_posts.tail()"
   ]
  },
  {
   "cell_type": "markdown",
   "metadata": {
    "_uuid": "d12174fcd162a6450e4ac2e303682e319aa005c6"
   },
   "source": [
    "### Creating a function to tokenize the words"
   ]
  },
  {
   "cell_type": "code",
   "execution_count": 16,
   "metadata": {
    "_uuid": "d1cf27e7c60cab187f862398d9d03331a9c001c7"
   },
   "outputs": [],
   "source": [
    "useless_words = nltk.corpus.stopwords.words(\"english\") + list(string.punctuation)\n",
    "def build_bag_of_words_features_filtered(words):\n",
    "    words = nltk.word_tokenize(words)\n",
    "    return {\n",
    "        word:1 for word in words \\\n",
    "        if not word in useless_words}"
   ]
  },
  {
   "cell_type": "markdown",
   "metadata": {
    "_uuid": "a6dfed355ceae2d2a91077b7c223f870be51c90f"
   },
   "source": [
    "A random check of the function"
   ]
  },
  {
   "cell_type": "code",
   "execution_count": 17,
   "metadata": {
    "_uuid": "63bd0cb8a9bd83ed83c31e29247873a5f64e8fd7",
    "scrolled": true
   },
   "outputs": [
    {
     "data": {
      "text/plain": [
       "{'Of': 1,\n",
       " 'course': 1,\n",
       " 'I': 1,\n",
       " 'say': 1,\n",
       " 'know': 1,\n",
       " \"'s\": 1,\n",
       " 'blessing': 1,\n",
       " 'curse': 1}"
      ]
     },
     "execution_count": 17,
     "metadata": {},
     "output_type": "execute_result"
    }
   ],
   "source": [
    "build_bag_of_words_features_filtered(main_to_posts['Ti'].iloc[1])"
   ]
  },
  {
   "cell_type": "markdown",
   "metadata": {},
   "source": [
    "## Creating a classifyer for Main functions"
   ]
  },
  {
   "cell_type": "code",
   "execution_count": 18,
   "metadata": {
    "_uuid": "08d890ede1621d48072217d1b15b2cde55a5b4a0"
   },
   "outputs": [],
   "source": [
    "features=[]\n",
    "for j in functions:\n",
    "    key = j\n",
    "    temp1 = main_to_posts[key]\n",
    "    temp1 = temp1.dropna() #not all the personality types have same number of files\n",
    "    features += [[(build_bag_of_words_features_filtered(i), key) for i in temp1]]    "
   ]
  },
  {
   "cell_type": "code",
   "execution_count": 19,
   "metadata": {},
   "outputs": [],
   "source": [
    "split=[]\n",
    "for i in range(8):\n",
    "    split += [len(features[i]) * 0.8]\n",
    "split = np.array(split,dtype = int)"
   ]
  },
  {
   "cell_type": "code",
   "execution_count": 20,
   "metadata": {
    "_uuid": "dc661a28b0941ae1604b3a4243ccae040a657bc7"
   },
   "outputs": [],
   "source": [
    "\n",
    "train=[]\n",
    "for i in range(8):\n",
    "    train += features[i][:split[i]] "
   ]
  },
  {
   "cell_type": "code",
   "execution_count": 21,
   "metadata": {
    "_uuid": "0f3cfefa97c2d4d413fefa67bedb4d93e20e28a7"
   },
   "outputs": [],
   "source": [
    "MainFunction = NaiveBayesClassifier.train(train)"
   ]
  },
  {
   "cell_type": "code",
   "execution_count": 22,
   "metadata": {
    "_uuid": "5fa8d51db85ea6f5170a2a98cfb49b0c86a882d6",
    "scrolled": true
   },
   "outputs": [
    {
     "data": {
      "text/plain": [
       "41.02282216889885"
      ]
     },
     "execution_count": 22,
     "metadata": {},
     "output_type": "execute_result"
    }
   ],
   "source": [
    "nltk.classify.util.accuracy(MainFunction, train)*100"
   ]
  },
  {
   "cell_type": "code",
   "execution_count": 23,
   "metadata": {
    "_uuid": "daccffb9ae1578e336417da72ff440da95e02b58"
   },
   "outputs": [],
   "source": [
    "test=[]\n",
    "for i in range(8):\n",
    "    test += features[i][split[i]:]"
   ]
  },
  {
   "cell_type": "code",
   "execution_count": 24,
   "metadata": {
    "_uuid": "225dd7878c1839fde0afd98eb542965174e43284"
   },
   "outputs": [
    {
     "data": {
      "text/plain": [
       "15.770024353943986"
      ]
     },
     "execution_count": 24,
     "metadata": {},
     "output_type": "execute_result"
    }
   ],
   "source": [
    "nltk.classify.util.accuracy(MainFunction, test)*100"
   ]
  },
  {
   "cell_type": "markdown",
   "metadata": {
    "_uuid": "08d890ede1621d48072217d1b15b2cde55a5b4a0"
   },
   "source": [
    "## Creating a classifyer for Dominating functions"
   ]
  },
  {
   "cell_type": "code",
   "execution_count": 25,
   "metadata": {
    "_uuid": "758c5ea838ea17737bee0aac2702fad80c222795"
   },
   "outputs": [],
   "source": [
    "# Features for the bag of words model\n",
    "features=[]\n",
    "for j in functions:\n",
    "    key = j\n",
    "    temp1 = dom_to_posts[key]\n",
    "    temp1 = temp1.dropna() #not all the personality types have same number of files\n",
    "    features += [[(build_bag_of_words_features_filtered(i), key) for i in temp1]]    "
   ]
  },
  {
   "cell_type": "code",
   "execution_count": 26,
   "metadata": {},
   "outputs": [],
   "source": [
    "split=[]\n",
    "for i in range(8):\n",
    "    split += [len(features[i]) * 0.8]\n",
    "split = np.array(split,dtype = int)"
   ]
  },
  {
   "cell_type": "code",
   "execution_count": 27,
   "metadata": {
    "_uuid": "dc661a28b0941ae1604b3a4243ccae040a657bc7"
   },
   "outputs": [],
   "source": [
    "\n",
    "train=[]\n",
    "for i in range(8):\n",
    "    train += features[i][:split[i]] "
   ]
  },
  {
   "cell_type": "code",
   "execution_count": 28,
   "metadata": {
    "_uuid": "0f3cfefa97c2d4d413fefa67bedb4d93e20e28a7"
   },
   "outputs": [],
   "source": [
    "DomFunction = NaiveBayesClassifier.train(train)"
   ]
  },
  {
   "cell_type": "code",
   "execution_count": 29,
   "metadata": {
    "_uuid": "5fa8d51db85ea6f5170a2a98cfb49b0c86a882d6",
    "scrolled": true
   },
   "outputs": [
    {
     "data": {
      "text/plain": [
       "66.03013902463931"
      ]
     },
     "execution_count": 29,
     "metadata": {},
     "output_type": "execute_result"
    }
   ],
   "source": [
    "nltk.classify.util.accuracy(DomFunction, train)*100"
   ]
  },
  {
   "cell_type": "code",
   "execution_count": 30,
   "metadata": {
    "_uuid": "daccffb9ae1578e336417da72ff440da95e02b58"
   },
   "outputs": [],
   "source": [
    "test=[]\n",
    "for i in range(8):\n",
    "    test += features[i][split[i]:]"
   ]
  },
  {
   "cell_type": "code",
   "execution_count": 31,
   "metadata": {
    "_uuid": "225dd7878c1839fde0afd98eb542965174e43284"
   },
   "outputs": [
    {
     "data": {
      "text/plain": [
       "20.886555847185768"
      ]
     },
     "execution_count": 31,
     "metadata": {},
     "output_type": "execute_result"
    }
   ],
   "source": [
    "nltk.classify.util.accuracy(DomFunction, test)*100"
   ]
  },
  {
   "cell_type": "markdown",
   "metadata": {
    "_uuid": "08d890ede1621d48072217d1b15b2cde55a5b4a0"
   },
   "source": [
    "## Creating a classifyer for Auxilary functions"
   ]
  },
  {
   "cell_type": "code",
   "execution_count": 32,
   "metadata": {
    "_uuid": "758c5ea838ea17737bee0aac2702fad80c222795"
   },
   "outputs": [],
   "source": [
    "# Features for the bag of words model\n",
    "features=[]\n",
    "for j in functions:\n",
    "    key = j\n",
    "    temp1 = aux_to_posts[key]\n",
    "    temp1 = temp1.dropna() #not all the personality types have same number of files\n",
    "    features += [[(build_bag_of_words_features_filtered(i), key) for i in temp1]]    "
   ]
  },
  {
   "cell_type": "code",
   "execution_count": 33,
   "metadata": {},
   "outputs": [],
   "source": [
    "split=[]\n",
    "for i in range(8):\n",
    "    split += [len(features[i]) * 0.8]\n",
    "split = np.array(split,dtype = int)"
   ]
  },
  {
   "cell_type": "code",
   "execution_count": 34,
   "metadata": {
    "_uuid": "dc661a28b0941ae1604b3a4243ccae040a657bc7"
   },
   "outputs": [],
   "source": [
    "\n",
    "train=[]\n",
    "for i in range(8):\n",
    "    train += features[i][:split[i]] "
   ]
  },
  {
   "cell_type": "code",
   "execution_count": 35,
   "metadata": {
    "_uuid": "0f3cfefa97c2d4d413fefa67bedb4d93e20e28a7"
   },
   "outputs": [],
   "source": [
    "AuxFunction = NaiveBayesClassifier.train(train)"
   ]
  },
  {
   "cell_type": "code",
   "execution_count": 36,
   "metadata": {
    "_uuid": "5fa8d51db85ea6f5170a2a98cfb49b0c86a882d6",
    "scrolled": true
   },
   "outputs": [
    {
     "data": {
      "text/plain": [
       "39.15171347020137"
      ]
     },
     "execution_count": 36,
     "metadata": {},
     "output_type": "execute_result"
    }
   ],
   "source": [
    "nltk.classify.util.accuracy(AuxFunction, train)*100"
   ]
  },
  {
   "cell_type": "code",
   "execution_count": 37,
   "metadata": {
    "_uuid": "daccffb9ae1578e336417da72ff440da95e02b58"
   },
   "outputs": [],
   "source": [
    "test=[]\n",
    "for i in range(8):\n",
    "    test += features[i][split[i]:]"
   ]
  },
  {
   "cell_type": "code",
   "execution_count": 38,
   "metadata": {
    "_uuid": "225dd7878c1839fde0afd98eb542965174e43284"
   },
   "outputs": [
    {
     "data": {
      "text/plain": [
       "21.386828982525326"
      ]
     },
     "execution_count": 38,
     "metadata": {},
     "output_type": "execute_result"
    }
   ],
   "source": [
    "nltk.classify.util.accuracy(AuxFunction, test)*100"
   ]
  },
  {
   "cell_type": "markdown",
   "metadata": {
    "_uuid": "08d890ede1621d48072217d1b15b2cde55a5b4a0"
   },
   "source": [
    "## Creating a classifyer for Introversion (I) and Extroversion (E)\n",
    "\n",
    "**Note:** The details for the steps over here are same as the ones while creating the model above, hence I will only explain the changes"
   ]
  },
  {
   "cell_type": "code",
   "execution_count": 39,
   "metadata": {
    "_uuid": "758c5ea838ea17737bee0aac2702fad80c222795"
   },
   "outputs": [],
   "source": [
    "# Features for the bag of words model\n",
    "features=[]\n",
    "for j in types:\n",
    "    temp1 = type_to_posts[j]\n",
    "    temp1 = temp1.dropna() #not all the personality types have same number of files\n",
    "    if('I' in j):\n",
    "        features += [[(build_bag_of_words_features_filtered(i), 'introvert') \\\n",
    "        for i in temp1]]\n",
    "    if('E' in j):\n",
    "        features += [[(build_bag_of_words_features_filtered(i), 'extrovert') \\\n",
    "        for i in temp1]]"
   ]
  },
  {
   "cell_type": "code",
   "execution_count": 40,
   "metadata": {},
   "outputs": [],
   "source": [
    "split=[]\n",
    "for i in range(16):\n",
    "    split += [len(features[i]) * 0.8]\n",
    "split = np.array(split,dtype = int)"
   ]
  },
  {
   "cell_type": "markdown",
   "metadata": {
    "_uuid": "4d5ead1eb0646a9e3b67fec85a67258700db1683"
   },
   "source": [
    "Data for training"
   ]
  },
  {
   "cell_type": "code",
   "execution_count": 41,
   "metadata": {
    "_uuid": "dc661a28b0941ae1604b3a4243ccae040a657bc7"
   },
   "outputs": [],
   "source": [
    "\n",
    "train=[]\n",
    "for i in range(16):\n",
    "    train += features[i][:split[i]] "
   ]
  },
  {
   "cell_type": "markdown",
   "metadata": {
    "_uuid": "39b99fb6094d25ba0fdac71069503f93787834ea"
   },
   "source": [
    "Training the model"
   ]
  },
  {
   "cell_type": "code",
   "execution_count": 42,
   "metadata": {
    "_uuid": "0f3cfefa97c2d4d413fefa67bedb4d93e20e28a7"
   },
   "outputs": [],
   "source": [
    "IntroExtro = NaiveBayesClassifier.train(train)"
   ]
  },
  {
   "cell_type": "markdown",
   "metadata": {
    "_uuid": "e1311522dc0a90625244e07d9dc2bc437905fb72"
   },
   "source": [
    "Testing the model on the dataset it was trained for accuracy"
   ]
  },
  {
   "cell_type": "code",
   "execution_count": 43,
   "metadata": {
    "_uuid": "5fa8d51db85ea6f5170a2a98cfb49b0c86a882d6",
    "scrolled": true
   },
   "outputs": [
    {
     "data": {
      "text/plain": [
       "80.76425473777905"
      ]
     },
     "execution_count": 43,
     "metadata": {},
     "output_type": "execute_result"
    }
   ],
   "source": [
    "nltk.classify.util.accuracy(IntroExtro, train)*100"
   ]
  },
  {
   "cell_type": "markdown",
   "metadata": {
    "_uuid": "d86e4151cff019a1ce26d810205251ab44722bfb"
   },
   "source": [
    "Creating the test data"
   ]
  },
  {
   "cell_type": "code",
   "execution_count": 44,
   "metadata": {
    "_uuid": "daccffb9ae1578e336417da72ff440da95e02b58"
   },
   "outputs": [],
   "source": [
    "test=[]\n",
    "for i in range(16):\n",
    "    test += features[i][split[i]:]"
   ]
  },
  {
   "cell_type": "markdown",
   "metadata": {
    "_uuid": "b65c6c98166ff1ad192679c2f33920b413814cc6"
   },
   "source": [
    "Testing the model on the test dataset which it has never seen before"
   ]
  },
  {
   "cell_type": "code",
   "execution_count": 45,
   "metadata": {
    "_uuid": "225dd7878c1839fde0afd98eb542965174e43284"
   },
   "outputs": [
    {
     "data": {
      "text/plain": [
       "58.109506269916814"
      ]
     },
     "execution_count": 45,
     "metadata": {},
     "output_type": "execute_result"
    }
   ],
   "source": [
    "nltk.classify.util.accuracy(IntroExtro, test)*100"
   ]
  },
  {
   "cell_type": "markdown",
   "metadata": {
    "_uuid": "ed4c624dd0dc41b69f97620c8b63df00d2e8f4cc"
   },
   "source": [
    "Seeing that this model has good somewhat good results, I shall repeat the same with the rest of the traits"
   ]
  },
  {
   "cell_type": "markdown",
   "metadata": {
    "_uuid": "6765c0a50cfa00abe02d82e54beb083513f576b9"
   },
   "source": [
    "## Creating a classifyer for Intuition (N) and Sensing (S)"
   ]
  },
  {
   "cell_type": "code",
   "execution_count": 46,
   "metadata": {
    "_uuid": "85b4bafa3ab5ab28d62bdf6f7900e13cb99d373b"
   },
   "outputs": [],
   "source": [
    "# Features for the bag of words model\n",
    "features=[]\n",
    "for j in types:\n",
    "    temp1 = type_to_posts[j]\n",
    "    temp1 = temp1.dropna() #not all the personality types have same number of files\n",
    "    if('N' in j):\n",
    "        features += [[(build_bag_of_words_features_filtered(i), 'Intuition') \\\n",
    "        for i in temp1]]\n",
    "    if('E' in j):\n",
    "        features += [[(build_bag_of_words_features_filtered(i), 'Sensing') \\\n",
    "        for i in temp1]]"
   ]
  },
  {
   "cell_type": "markdown",
   "metadata": {
    "_uuid": "7eef111f32cadb152e05ebfad3c1ddd153771e78"
   },
   "source": [
    "Data for training"
   ]
  },
  {
   "cell_type": "code",
   "execution_count": 47,
   "metadata": {
    "_uuid": "16e77e2f017c6e325efb01d0c2f1b08e0275df7b"
   },
   "outputs": [],
   "source": [
    "train=[]\n",
    "for i in range(16):\n",
    "    train += features[i][:split[i]] "
   ]
  },
  {
   "cell_type": "markdown",
   "metadata": {
    "_uuid": "592909a2a3e0f48e4fd3d79986284e8afa69e21c"
   },
   "source": [
    "Training the model"
   ]
  },
  {
   "cell_type": "code",
   "execution_count": 48,
   "metadata": {
    "_uuid": "9b4e1144c7503f5e2479e5653c7c94e64c72ae5a"
   },
   "outputs": [],
   "source": [
    "IntuitionSensing = NaiveBayesClassifier.train(train)"
   ]
  },
  {
   "cell_type": "markdown",
   "metadata": {
    "_uuid": "44adef77bfbc3cb4a47083f68375f2bb504eafb7"
   },
   "source": [
    "Testing the model on the dataset it was trained for accuracy"
   ]
  },
  {
   "cell_type": "code",
   "execution_count": 49,
   "metadata": {
    "_uuid": "ef7ba72cf11a1db5dd681e27a0f6bbaecf71407c",
    "scrolled": true
   },
   "outputs": [
    {
     "data": {
      "text/plain": [
       "70.01473096604126"
      ]
     },
     "execution_count": 49,
     "metadata": {},
     "output_type": "execute_result"
    }
   ],
   "source": [
    "nltk.classify.util.accuracy(IntuitionSensing, train)*100"
   ]
  },
  {
   "cell_type": "markdown",
   "metadata": {
    "_uuid": "bd1151feaed8186de445f49a0312d65662bc2ee0"
   },
   "source": [
    "Creating the test data"
   ]
  },
  {
   "cell_type": "code",
   "execution_count": 50,
   "metadata": {
    "_uuid": "7978094d62e93fab92fa1baa317e7f88b584f6cb"
   },
   "outputs": [],
   "source": [
    "test=[]\n",
    "for i in range(16):\n",
    "    test += features[i][split[i]:]"
   ]
  },
  {
   "cell_type": "markdown",
   "metadata": {
    "_uuid": "64eacd6d7ea9411c03daf46048e65f7f39e57439"
   },
   "source": [
    "Testing the model on the test dataset which it has never seen before"
   ]
  },
  {
   "cell_type": "code",
   "execution_count": 51,
   "metadata": {
    "_uuid": "5530407b17783aa9750263045c4e82fc9ede4193"
   },
   "outputs": [
    {
     "data": {
      "text/plain": [
       "54.43569200386005"
      ]
     },
     "execution_count": 51,
     "metadata": {},
     "output_type": "execute_result"
    }
   ],
   "source": [
    "nltk.classify.util.accuracy(IntuitionSensing, test)*100"
   ]
  },
  {
   "cell_type": "markdown",
   "metadata": {
    "_uuid": "939377c2a60e87473452f8ccf2ac3f65cb92184a"
   },
   "source": [
    "## Creating a classifyer for Thinking (T) and Feeling (F)"
   ]
  },
  {
   "cell_type": "code",
   "execution_count": 52,
   "metadata": {
    "_uuid": "16c94864f18f7813ef48303b0813a82df5faf21b"
   },
   "outputs": [],
   "source": [
    "# Features for the bag of words model\n",
    "features=[]\n",
    "for j in types:\n",
    "    temp1 = type_to_posts[j]\n",
    "    temp1 = temp1.dropna() #not all the personality types have same number of files\n",
    "    if('T' in j):\n",
    "        features += [[(build_bag_of_words_features_filtered(i), 'Thinking') \\\n",
    "        for i in temp1]]\n",
    "    if('F' in j):\n",
    "        features += [[(build_bag_of_words_features_filtered(i), 'Feeling') \\\n",
    "        for i in temp1]]"
   ]
  },
  {
   "cell_type": "markdown",
   "metadata": {
    "_uuid": "64ad5abdba282c032bb3d05c750e43a3b0aef2ad"
   },
   "source": [
    "Data for training"
   ]
  },
  {
   "cell_type": "code",
   "execution_count": 53,
   "metadata": {
    "_uuid": "8695bea4e9df4c7f2c68d0326438bab6f2adca61"
   },
   "outputs": [],
   "source": [
    "train=[]\n",
    "for i in range(16):\n",
    "    train += features[i][:split[i]] "
   ]
  },
  {
   "cell_type": "markdown",
   "metadata": {
    "_uuid": "55eea684d80fa25b5e64593d39b1c3ecf03bf881"
   },
   "source": [
    "Training the model"
   ]
  },
  {
   "cell_type": "code",
   "execution_count": 54,
   "metadata": {
    "_uuid": "e4957976f0e457d3c02cebb8d0410162aa17819e"
   },
   "outputs": [],
   "source": [
    "ThinkingFeeling = NaiveBayesClassifier.train(train)"
   ]
  },
  {
   "cell_type": "markdown",
   "metadata": {
    "_uuid": "22a822dd4c965fe0d07a14727712f5b7d13b6905"
   },
   "source": [
    "Testing the model on the dataset it was trained for accuracy"
   ]
  },
  {
   "cell_type": "code",
   "execution_count": 55,
   "metadata": {
    "_uuid": "dcb9f355cfc7cf654c7c7dc852c7cdf96a3d5511",
    "scrolled": true
   },
   "outputs": [
    {
     "data": {
      "text/plain": [
       "79.64229897430059"
      ]
     },
     "execution_count": 55,
     "metadata": {},
     "output_type": "execute_result"
    }
   ],
   "source": [
    "nltk.classify.util.accuracy(ThinkingFeeling, train)*100"
   ]
  },
  {
   "cell_type": "markdown",
   "metadata": {
    "_uuid": "2b0c8929460dd615caab7954edd65ffa0b0d1e3f"
   },
   "source": [
    "Creating the test data"
   ]
  },
  {
   "cell_type": "code",
   "execution_count": 56,
   "metadata": {
    "_uuid": "e0afea3a82d77e0d4aa32ce16f3b037cd7b90219"
   },
   "outputs": [],
   "source": [
    "test=[]\n",
    "for i in range(16):\n",
    "    test += features[i][split[i]:]"
   ]
  },
  {
   "cell_type": "markdown",
   "metadata": {
    "_uuid": "cf9c51cbab8326ad77fb77a58877d9626ab14002"
   },
   "source": [
    "Testing the model on the test dataset which it has never seen before"
   ]
  },
  {
   "cell_type": "code",
   "execution_count": 57,
   "metadata": {
    "_uuid": "5ddcd665f3b0e7fdaabc817309b2ea92ba0daa84"
   },
   "outputs": [
    {
     "data": {
      "text/plain": [
       "59.48764640152299"
      ]
     },
     "execution_count": 57,
     "metadata": {},
     "output_type": "execute_result"
    }
   ],
   "source": [
    "nltk.classify.util.accuracy(ThinkingFeeling, test)*100"
   ]
  },
  {
   "cell_type": "markdown",
   "metadata": {
    "_uuid": "2638f37c273a9462711df93b20bb8ecd72cc3896"
   },
   "source": [
    "## Creating a classifyer for Judging (J) and Percieving (P)"
   ]
  },
  {
   "cell_type": "code",
   "execution_count": 58,
   "metadata": {
    "_uuid": "79646248ac9aeb950fc957e6b876b44cb31cf130"
   },
   "outputs": [],
   "source": [
    "# Features for the bag of words model\n",
    "features=[]\n",
    "for j in types:\n",
    "    temp1 = type_to_posts[j]\n",
    "    temp1 = temp1.dropna() #not all the personality types have same number of files\n",
    "    if('J' in j):\n",
    "        features += [[(build_bag_of_words_features_filtered(i), 'Judging') \\\n",
    "        for i in temp1]]\n",
    "    if('P' in j):\n",
    "        features += [[(build_bag_of_words_features_filtered(i), 'Percieving') \\\n",
    "        for i in temp1]]"
   ]
  },
  {
   "cell_type": "markdown",
   "metadata": {
    "_uuid": "0232daa44ab2d286b694a2b73af0433e6d2969e5"
   },
   "source": [
    "Data for training"
   ]
  },
  {
   "cell_type": "code",
   "execution_count": 59,
   "metadata": {
    "_uuid": "62c38900f7179032146564bb787877245ac3d3c4"
   },
   "outputs": [],
   "source": [
    "train=[]\n",
    "for i in range(16):\n",
    "    train += features[i][:split[i]] "
   ]
  },
  {
   "cell_type": "markdown",
   "metadata": {
    "_uuid": "f638df8e5839cc47b1e371f491081f43435fa528"
   },
   "source": [
    "Training the model"
   ]
  },
  {
   "cell_type": "code",
   "execution_count": 60,
   "metadata": {
    "_uuid": "91c1317cb7caaf3aea3916ac3bf22b6c2f33cf2d"
   },
   "outputs": [],
   "source": [
    "JudgingPercieiving = NaiveBayesClassifier.train(train)"
   ]
  },
  {
   "cell_type": "markdown",
   "metadata": {
    "_uuid": "d1b7e2bc332bf8085a2cff042083dbde73adf7bc"
   },
   "source": [
    "Testing the model on the dataset it was trained for accuracy"
   ]
  },
  {
   "cell_type": "code",
   "execution_count": 61,
   "metadata": {
    "_uuid": "9c3cb5d0eb3640d8fbc1285cba35af26bc18112b",
    "scrolled": true
   },
   "outputs": [
    {
     "data": {
      "text/plain": [
       "79.38251032427006"
      ]
     },
     "execution_count": 61,
     "metadata": {},
     "output_type": "execute_result"
    }
   ],
   "source": [
    "nltk.classify.util.accuracy(JudgingPercieiving, train)*100"
   ]
  },
  {
   "cell_type": "markdown",
   "metadata": {
    "_uuid": "df666a14baa285f16922798183b23021415b27ba"
   },
   "source": [
    "Creating the test data"
   ]
  },
  {
   "cell_type": "code",
   "execution_count": 62,
   "metadata": {
    "_uuid": "7ed4ffc949f727d43f8a0635ee27331e82333927"
   },
   "outputs": [],
   "source": [
    "test=[]\n",
    "for i in range(16):\n",
    "    test += features[i][split[i]:]"
   ]
  },
  {
   "cell_type": "markdown",
   "metadata": {
    "_uuid": "c61796a09ba127bcba391eb177d9e98bfc298e4c"
   },
   "source": [
    "Testing the model on the test dataset which it has never seen before"
   ]
  },
  {
   "cell_type": "code",
   "execution_count": 63,
   "metadata": {
    "_uuid": "39de4ac50b744d0d0c7ce7efc3d37717ed95eec6"
   },
   "outputs": [
    {
     "data": {
      "text/plain": [
       "54.372387534660426"
      ]
     },
     "execution_count": 63,
     "metadata": {},
     "output_type": "execute_result"
    }
   ],
   "source": [
    "nltk.classify.util.accuracy(JudgingPercieiving, test)*100"
   ]
  },
  {
   "cell_type": "markdown",
   "metadata": {
    "_uuid": "86d39c896a2dcf81f209e832575b271c30c170a1"
   },
   "source": [
    "# Summarizing the results of the models\n",
    "***\n"
   ]
  },
  {
   "cell_type": "code",
   "execution_count": 64,
   "metadata": {
    "_uuid": "0261680d17b7d53253653f055a0da3a32082f258"
   },
   "outputs": [
    {
     "data": {
      "text/html": [
       "<div>\n",
       "<style scoped>\n",
       "    .dataframe tbody tr th:only-of-type {\n",
       "        vertical-align: middle;\n",
       "    }\n",
       "\n",
       "    .dataframe tbody tr th {\n",
       "        vertical-align: top;\n",
       "    }\n",
       "\n",
       "    .dataframe thead th {\n",
       "        text-align: right;\n",
       "    }\n",
       "</style>\n",
       "<table border=\"1\" class=\"dataframe\">\n",
       "  <thead>\n",
       "    <tr style=\"text-align: right;\">\n",
       "      <th></th>\n",
       "      <th>Introvert - Extrovert</th>\n",
       "      <th>Intuition - Sensing</th>\n",
       "      <th>Thinking - Feeling</th>\n",
       "      <th>Judging - Percieiving</th>\n",
       "    </tr>\n",
       "  </thead>\n",
       "  <tbody>\n",
       "    <tr>\n",
       "      <th>train</th>\n",
       "      <td>81.124440</td>\n",
       "      <td>70.145242</td>\n",
       "      <td>80.034569</td>\n",
       "      <td>79.793411</td>\n",
       "    </tr>\n",
       "    <tr>\n",
       "      <th>test</th>\n",
       "      <td>58.204693</td>\n",
       "      <td>54.462623</td>\n",
       "      <td>59.413152</td>\n",
       "      <td>54.405496</td>\n",
       "    </tr>\n",
       "  </tbody>\n",
       "</table>\n",
       "</div>"
      ],
      "text/plain": [
       "       Introvert - Extrovert  Intuition - Sensing  Thinking - Feeling  \\\n",
       "train              81.124440            70.145242           80.034569   \n",
       "test               58.204693            54.462623           59.413152   \n",
       "\n",
       "       Judging - Percieiving  \n",
       "train              79.793411  \n",
       "test               54.405496  "
      ]
     },
     "execution_count": 64,
     "metadata": {},
     "output_type": "execute_result"
    }
   ],
   "source": [
    "temp = {'train' : [81.12443979837917,70.14524215640667,80.03456948570128,79.79341109742592], 'test' : [58.20469312585358,54.46262259027357,59.41315234035509,54.40549600629061]}\n",
    "results = pd.DataFrame.from_dict(temp, orient='index', columns=['Introvert - Extrovert', 'Intuition - Sensing', 'Thinking - Feeling', 'Judging - Percieiving'])\n",
    "results"
   ]
  },
  {
   "cell_type": "markdown",
   "metadata": {
    "_uuid": "902d13554137516a8770804503717d6a37451487"
   },
   "source": [
    "Plotting the results for better appeal"
   ]
  },
  {
   "cell_type": "code",
   "execution_count": 65,
   "metadata": {
    "_uuid": "4c0c3d6bc3a5a9ca687d95a912a002d2f5459760"
   },
   "outputs": [
    {
     "data": {
      "text/plain": [
       "Text(0.5, 1.0, 'Total posts for each personality type')"
      ]
     },
     "execution_count": 65,
     "metadata": {},
     "output_type": "execute_result"
    },
    {
     "data": {
      "image/png": "[encoded data removed]",
      "text/plain": [
       "<Figure size 864x432 with 1 Axes>"
      ]
     },
     "metadata": {
      "needs_background": "light"
     },
     "output_type": "display_data"
    }
   ],
   "source": [
    "plt.figure(figsize = (12,6))\n",
    "\n",
    "plt.bar(np.array(results.columns), height = results.loc['train'],)\n",
    "plt.xlabel('Personality types', size = 14)\n",
    "plt.ylabel('Number of posts available', size = 14)\n",
    "plt.title('Total posts for each personality type')"
   ]
  },
  {
   "cell_type": "code",
   "execution_count": 66,
   "metadata": {
    "_uuid": "318a256a8f4e05fe6a6763b373ec2cdb47f0de29"
   },
   "outputs": [
    {
     "data": {
      "image/png": "[encoded data removed]",
      "text/plain": [
       "<Figure size 864x432 with 1 Axes>"
      ]
     },
     "metadata": {
      "needs_background": "light"
     },
     "output_type": "display_data"
    }
   ],
   "source": [
    "labels = np.array(results.columns)\n",
    "\n",
    "training = results.loc['train']\n",
    "ind = np.arange(4)\n",
    "width = 0.4\n",
    "fig = plt.figure()\n",
    "ax = fig.add_subplot(111)\n",
    "rects1 = ax.bar(ind, training, width, color='royalblue')\n",
    "\n",
    "testing = results.loc['test']\n",
    "rects2 = ax.bar(ind+width, testing, width, color='seagreen')\n",
    "\n",
    "fig.set_size_inches(12, 6)\n",
    "fig.savefig('Results.png', dpi=200)\n",
    "\n",
    "ax.set_xlabel('Model Classifying Trait', size = 18)\n",
    "ax.set_ylabel('Accuracy Percent (%)', size = 18)\n",
    "ax.set_xticks(ind + width / 2)\n",
    "ax.set_xticklabels(labels)\n",
    "ax.legend((rects1[0], rects2[0]), ('Tested on a known dataframe', 'Tested on an unknown dataframe'))\n",
    "plt.show()"
   ]
  },
  {
   "cell_type": "markdown",
   "metadata": {},
   "source": [
    "# Save trained models"
   ]
  },
  {
   "cell_type": "code",
   "execution_count": 76,
   "metadata": {},
   "outputs": [],
   "source": [
    "import pickle\n",
    "import os\n",
    "\n",
    "def save_classifier(classifier, name):\n",
    "    f = open(os.path.join('models', name+'.pickle'), 'wb')\n",
    "    pickle.dump(classifier, f)\n",
    "    f.close()\n",
    "         \n",
    "save_classifier(IntroExtro, \"IntroExtro\")\n",
    "save_classifier(IntuitionSensing, \"IntuitionSensing\")\n",
    "save_classifier(ThinkingFeeling, \"ThinkingFeeling\")\n",
    "save_classifier(JudgingPercieiving, \"JudgingPercieiving\")\n",
    "save_classifier(MainFunction, \"MainFunction\")\n",
    "save_classifier(DomFunction, \"DomFunction\")\n",
    "save_classifier(AuxFunction, \"AuxFunction\")"
   ]
  },
  {
   "cell_type": "markdown",
   "metadata": {},
   "source": [
    "Now you can use trained model to predict the type using `predict.ipynb` notebook."
   ]
  }
 ],
 "metadata": {
  "kernelspec": {
   "display_name": "Python 3 (ipykernel)",
   "language": "python",
   "name": "python3"
  },
  "language_info": {
   "codemirror_mode": {
    "name": "ipython",
    "version": 3
   },
   "file_extension": ".py",
   "mimetype": "text/x-python",
   "name": "python",
   "nbconvert_exporter": "python",
   "pygments_lexer": "ipython3",
   "version": "3.10.4"
  }
 },
 "nbformat": 4,
 "nbformat_minor": 4
}
